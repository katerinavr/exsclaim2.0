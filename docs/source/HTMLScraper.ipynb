{
 "cells": [
  {
   "cell_type": "markdown",
   "metadata": {},
   "source": [
    "## 3. Scraping data from HTML files"
   ]
  },
  {
   "cell_type": "markdown",
   "metadata": {
    "id": "nCAEjeVKG-kA"
   },
   "source": [
    "The HTMLScraper is an extension to EXSCLAIM! code (https://github.com/MaterialEyes/exsclaim) which allows users to create a folder with HLTML files of the journals Nature, Wiley, ACS, RSC and scrape the images and captions."
   ]
  },
  {
   "cell_type": "markdown",
   "metadata": {
    "id": "A6qmX3RPHjW7"
   },
   "source": [
    "! Note that for journals with dynamic webpages the chomedriver installation is crusial."
   ]
  },
  {
   "cell_type": "markdown",
   "metadata": {
    "id": "NhA1hP6GJJvW"
   },
   "source": [
    "Make sure the chrome driver is connected to be able to use Selenium."
   ]
  },
  {
   "cell_type": "code",
   "execution_count": 1,
   "metadata": {
    "colab": {
     "base_uri": "https://localhost:8080/"
    },
    "id": "MOkRwUbYhY8z",
    "outputId": "64f87be2-f039-4883-ac65-2d089b43fc18"
   },
   "outputs": [
    {
     "name": "stdout",
     "output_type": "stream",
     "text": [
      " Google Driver is connected successfully\n"
     ]
    }
   ],
   "source": [
    "from selenium import webdriver\n",
    "from selenium.webdriver.chrome.service import Service as ChromeService\n",
    "from webdriver_manager.chrome import ChromeDriverManager\n",
    "from selenium_stealth import stealth\n",
    "\n",
    "URL = \"https://google.com\"\n",
    "\n",
    "# create a new Service instance and specify path to Chromedriver executable\n",
    "service = ChromeService(executable_path=ChromeDriverManager().install())\n",
    "\n",
    "options = webdriver.ChromeOptions()\n",
    "options.add_argument(\"--headless\")\n",
    "options.add_argument(\"--no-sandbox\")\n",
    "driver = webdriver.Chrome(service=service, options=options)\n",
    "\n",
    "driver.get(URL)\n",
    "title = driver.title\n",
    "\n",
    "stealth(driver,\n",
    "                languages=[\"en-US\", \"en\"],\n",
    "                vendor=\"Google Inc.\",\n",
    "                platform=\"Win32\",\n",
    "                webgl_vendor=\"Intel Inc.\",\n",
    "                renderer=\"Intel Iris OpenGL Engine\",\n",
    "                fix_hairline=True,\n",
    "                )\n",
    "\n",
    "print(f\" {title} Driver is connected successfully\")\n"
   ]
  },
  {
   "cell_type": "markdown",
   "metadata": {},
   "source": [
    "```\n",
    "!git clone https://github.com/katerinavr/exsclaim.git\n",
    "%cd exsclaim\n",
    "!python setup.py install\n",
    "!pip install urllib3==1.25.10\n",
    "!pip install --upgrade --no-cache-dir gdown\n",
    "from IPython.display import clear_output\n",
    "import pandas as pd\n",
    "import locale\n",
    "locale.getpreferredencoding = lambda: \"UTF-8\"\n",
    "clear_output()\n",
    "\n",
    "```"
   ]
  },
  {
   "cell_type": "markdown",
   "metadata": {},
   "source": [
    "```\n",
    "!pip install langchain\n",
    "!pip install transformers\n",
    "!pip install gradio\n",
    "!pip install accelerate\n",
    "!pip install chromadb\n",
    "!pip install sentence_transformers\n",
    "!pip install unstructured\n",
    "!pip install tiktoken\n",
    "!pip install openai\n",
    "clear_output()\n",
    "\n",
    "```"
   ]
  },
  {
   "cell_type": "code",
   "execution_count": 4,
   "metadata": {
    "id": "cftMc1qj4gbl"
   },
   "outputs": [],
   "source": [
    "#import requests\n",
    "import os\n",
    "\n",
    "def download_file_from_google_drive(id, destination):\n",
    "    URL = \"https://docs.google.com/uc?id=\"+id\n",
    "    cmd = \"gdown %s -O %s\"%(URL, destination)\n",
    "    os.system(cmd)"
   ]
  },
  {
   "cell_type": "markdown",
   "metadata": {},
   "source": [
    "```\n",
    "# Load the pretrained models\n",
    "!mkdir /content/exsclaim/exsclaim/figures/checkpoints/\n",
    "download_file_from_google_drive('1ZodeH37Nd4ZbA0_1G_MkLKuuiyk7VUXR', '/content/exsclaim/exsclaim/figures/checkpoints/classifier_model.pt')\n",
    "download_file_from_google_drive('1Hh7IPTEc-oTWDGAxI9o0lKrv9MBgP4rm', '/content/exsclaim/exsclaim/figures/checkpoints/object_detection_model.pt')\n",
    "download_file_from_google_drive('1rZaxCPEWKGwvwYYa8jLINpUt20h0jo8y', '/content/exsclaim/exsclaim/figures/checkpoints/text_recognition_model.pt')\n",
    "download_file_from_google_drive('1B4_rMbP3a1XguHHX4EnJ6tSlyCCRIiy4', '/content/exsclaim/exsclaim/figures/checkpoints/scale_bar_detection_model.pt')\n",
    "download_file_from_google_drive('1oGjPG698LdSGvv3FhrLYh_1FhcmYYKpu', '/content/exsclaim/exsclaim/figures/checkpoints/scale_label_recognition_model.pt')\n",
    "\n",
    "```"
   ]
  },
  {
   "cell_type": "markdown",
   "metadata": {
    "id": "a6uYrUEhMB4d"
   },
   "source": [
    "Below you can find an example of the json query which is the input to the pipeline. Several example queries can be found under: /exsclaim/query"
   ]
  },
  {
   "cell_type": "markdown",
   "metadata": {
    "id": "Y2queBjhRnZM"
   },
   "source": [
    "When you use the HTMLScraper, you need to create a 'html_files' folder and upload your HTML files"
   ]
  },
  {
   "cell_type": "code",
   "execution_count": 6,
   "metadata": {
    "id": "pjP9i7rD1yEr"
   },
   "outputs": [],
   "source": [
    "test_json =  {\n",
    "    \"name\": \"html-ECPs\",\n",
    "\n",
    "    \"html_folder\": \"/content/html_files\" ,\n",
    "\n",
    "     \"llm\": \"gpt-3.5-turbo\",\n",
    "\n",
    "    \"openai_API\": # here you need to add your OpenAI API key ,\n",
    "    \"save_format\": [\"boxes\", \"save_subfigures\", \"csv\"],\n",
    "\n",
    "    \"logging\": [\"print\", \"exsclaim.log\"]\n",
    "    }\n"
   ]
  },
  {
   "cell_type": "markdown",
   "metadata": {
    "id": "rkoef7NEZtT_"
   },
   "source": [
    "\n",
    "Once the run is completed successfully a **SUCCESS** message will be printed.\n",
    "Inside the exsclaim directory the generated documents can be located into the /exsclaim/output/name"
   ]
  },
  {
   "cell_type": "code",
   "execution_count": 7,
   "metadata": {
    "colab": {
     "base_uri": "https://localhost:8080/"
    },
    "id": "nKpkxwmMZT3m",
    "outputId": "0846889a-fd32-4f6e-bece-7efca32b24aa"
   },
   "outputs": [
    {
     "name": "stdout",
     "output_type": "stream",
     "text": [
      "\r\u001b[K\n",
      "        @@@@@@@@@@@@@@@@@@@@@@@@@@@@@@@@@@@@@@@@@@@@@@@@@@@@\n",
      "        @@@@@@@@@@@@@@@@@@@&   /&@@@(   /@@@@@@@@@@@@@@@@@@@\n",
      "        @@@@@@@@@@@@@@@ %@@@@@@@@@@@@@@@@@@@ *@@@@@@@@@@@@@@\n",
      "        @@@@@@@@@@@@ @@@@@@@@@@@@@@,  .@@@@@@@@ *@@@@@@@@@@@\n",
      "        @@@@@@@@@.#@@@@@@@@@@@@@@@@,    @@@@@@@@@@ @@@@@@@@@\n",
      "        @@@@@@@&,@@@@@@@@@@@@@@@@@@.    @@@@@@@@@@@@ @@@@@@@\n",
      "        @@@@@@ @@@@@@@@@@@@@@@@@@@@     @@@@@@@@@@@@@ @@@@@@\n",
      "        @@@@@ @@@@@@@@@@@@@@@@@@@@@    *@@@@@@@@@@@@@@/@@@@@\n",
      "        @@@@ @@@@@@@@@@@@@@@@@@@@@@    @@@@@@@@@@@@@@@@,@@@@\n",
      "        @@@ @@@@@@@@@@@@@@@@@@@@@@&    @@@@@@@@@@@@@@@@@ @@@\n",
      "        @@@,@@@@@@@@@@@@@@@@@@@@@@*   (@@@@@@@@@@@@@@@@@@%@@\n",
      "        @@.@@@@@@@@@@@@@@@@@@@@@@@    @@@@@@@@@@@@@@@@@@@ @@\n",
      "        @@ @@@@@@@@@@@@@@@@@@@@@@@    @@@@@@@@@@@@@@@@@@@ @@\n",
      "        @@ @@@@@@@@@@@@@@@@@@@@@@/   &@@@@@@@@@@@@@@@@@@@ @@\n",
      "        @@,@@@@@@@@@@@@@@@@@@@@@@    @@@@@@@@@@@@@@@@@@@@ @@\n",
      "        @@@.@@@@@@@@@@@@@@@@@@@@&   @@@@@@@@@@@@@@@@@@@@@%@@\n",
      "        @@@ @@@@@@@@@@@@@@@@@@@@@  /@@@@@@@@@@@@@@@@@@@@ @@@\n",
      "        @@@@ @@@@@@@@@@@@@@@@@@@@@@@@@@@@@@@@@@@@@@@@@@,@@@@\n",
      "        @@@@@ @@@@@@@@@@@@@@@@@@@@@@@@@@@@@@@@@@@@@@@@*@@@@@\n",
      "        @@@@@@ @@@@@@@@@@@@@@@@@@@@@@@@@@@@@@@@@@@@@@ @@@@@@\n",
      "        @@@@@@@@ @@@@@@@@@@@@    @@@@@@@@@@@@@@@@@@@ @@@@@@@\n",
      "        @@@@@@@@@.(@@@@@@@@@@     @@@@@@@@@@@@@@@@ @@@@@@@@@\n",
      "        @@@@@@@@@@@@ @@@@@@@@@#   #@@@@@@@@@@@@ /@@@@@@@@@@@\n",
      "        @@@@@@@@@@@@@@@ ,@@@@@@@@@@@@@@@@@@@ &@@@@@@@@@@@@@@\n",
      "        @@@@@@@@@@@@@@@@@@@@   ,%@@&/   (@@@@@@@@@@@@@@@@@@@\n",
      "        @@@@@@@@@@@@@@@@@@@@@@@@@@@@@@@@@@@@@@@@@@@@@@@@@@@@\n",
      "        "
     ]
    },
    {
     "name": "stderr",
     "output_type": "stream",
     "text": [
      "/usr/local/lib/python3.10/dist-packages/torchvision/models/_utils.py:208: UserWarning: The parameter 'pretrained' is deprecated since 0.13 and may be removed in the future, please use 'weights' instead.\n",
      "  warnings.warn(\n",
      "/usr/local/lib/python3.10/dist-packages/torchvision/models/_utils.py:223: UserWarning: Arguments other than a weight enum or `None` for 'weights' are deprecated since 0.13 and may be removed in the future. The current behavior is equivalent to passing `weights=FasterRCNN_ResNet50_FPN_Weights.COCO_V1`. You can also use `weights=FasterRCNN_ResNet50_FPN_Weights.DEFAULT` to get the most up-to-date weights.\n",
      "  warnings.warn(msg)\n"
     ]
    },
    {
     "name": "stdout",
     "output_type": "stream",
     "text": [
      "\u001b[KRunning HTML Scraper\n",
      "\u001b[K>>> (1 of 1) Extracting figures from: All Donor Electrochromic Polymers Tunable across the Visible Spectrum via Random Copolymerization _ Chemistry of Materials.htmlimage saved as:  /content/exsclaim/output/html-ECPs/figures/acs.chemmater.9b01293_fig1.png\n",
      "image saved as:  /content/exsclaim/output/html-ECPs/figures/acs.chemmater.9b01293_fig2.png\n",
      "image saved as:  /content/exsclaim/output/html-ECPs/figures/acs.chemmater.9b01293_fig3.png\n",
      "image saved as:  /content/exsclaim/output/html-ECPs/figures/acs.chemmater.9b01293_fig4.png\n",
      "image saved as:  /content/exsclaim/output/html-ECPs/figures/acs.chemmater.9b01293_fig5.png\n",
      "image saved as:  /content/exsclaim/output/html-ECPs/figures/acs.chemmater.9b01293_fig6.png\n",
      "image saved as:  /content/exsclaim/output/html-ECPs/figures/acs.chemmater.9b01293_fig7.png\n",
      "image saved as:  /content/exsclaim/output/html-ECPs/figures/acs.chemmater.9b01293_fig8.png\n",
      "image saved as:  /content/exsclaim/output/html-ECPs/figures/acs.chemmater.9b01293_fig9.png\n",
      "image saved as:  /content/exsclaim/output/html-ECPs/figures/acs.chemmater.9b01293_fig10.png\n",
      "image saved as:  /content/exsclaim/output/html-ECPs/figures/acs.chemmater.9b01293_fig11.png\n",
      "\u001b[K>>> Time Elapsed: 37.25 sec (1 articles)\n",
      "\u001b[KRunning Caption Distributor\n",
      "\u001b[K>>> Time Elapsed: 78.44 sec (11 captions)\n",
      "\u001b[KRunning Figure Separator\n",
      "\u001b[K>>> Time Elapsed: 9.44 sec (11 figures)\n",
      "\u001b[KMatching Image Objects to Caption Text\n",
      "\u001b[K>>> (2 of 11) Matching objects from figure: acs.chemmater.9b01293_fig2.pngcaption_label all donor polymers used for inspiration that show tunability across the visible spectrum\n",
      "caption_label L*a*b* color space cross section\n",
      "\u001b[K>>> (7 of 11) Matching objects from figure: acs.chemmater.9b01293_fig7.pngcaption_label DPV of xyz112 on a Pt button electrode in 0.5 M TBAPF6/PC\n",
      "caption_label CV of xyz211 on a Pt button electrode in 0.5 M TBAPF6/PC\n",
      "\u001b[K>>> (8 of 11) Matching objects from figure: acs.chemmater.9b01293_fig8.pngcaption_label Neutral state spectra on ITO-coated glass comparing the effects of varying the amount of ProDOT while holding the ratios of the other monomer constant.\n",
      "caption_label Neutral state spectra on ITO-coated glass comparing the effects of varying the amount of DAT while holding the ratios of the other monomer constant.\n",
      "caption_label Neutral state spectra on ITO-coated glass comparing the effects of varying the amount of biEDOT while holding the ratios of the other monomer constant.\n",
      "\u001b[K>>> (9 of 11) Matching objects from figure: acs.chemmater.9b01293_fig9.pngcaption_label Spectroelectrochemistry and photographs of xyz112\n",
      "caption_label Spectroelectrochemistry and photographs of xyz211\n",
      "\u001b[K>>> (11 of 11) Matching objects from figure: acs.chemmater.9b01293_fig11.pngcaption_label Spectroelectrochemistry and photography of mixtures of xyz211 and xyz122 at ratios of 2:1\n",
      "caption_label Spectroelectrochemistry and photography of mixtures of xyz211 and xyz122 at ratios of 1:1\n",
      "\u001b[K>>> SUCCESS!\n",
      "\u001b[KPrinting Master Image Objects to: /content/exsclaim/output/html-ECPs/images\n",
      "\u001b[K>>> SUCCESS!\n"
     ]
    }
   ],
   "source": [
    "from exsclaim.pipeline import Pipeline\n",
    "\n",
    "test_pipeline = Pipeline(test_json)\n",
    "results = test_pipeline.run(tools=None,\n",
    "        figure_separator=True,\n",
    "        caption_distributor=True,\n",
    "        journal_scraper=False,\n",
    "        html_scraper=True,\n",
    "        driver = driver)"
   ]
  }
 ],
 "metadata": {
  "accelerator": "GPU",
  "colab": {
   "gpuType": "T4",
   "provenance": []
  },
  "kernelspec": {
   "display_name": "Python 3",
   "name": "python3"
  },
  "language_info": {
   "name": "python"
  }
 },
 "nbformat": 4,
 "nbformat_minor": 0
}
